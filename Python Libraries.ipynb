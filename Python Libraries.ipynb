{
 "cells": [
  {
   "cell_type": "code",
   "execution_count": null,
   "metadata": {},
   "outputs": [],
   "source": [
    "#pickle examples\n",
    "import pickle as pk\n",
    "\n",
    "#create items to put into pickles\n",
    "dump_dict = {'USA':'Washington D.C.', 'Canada': 'Ottawa', 'Mexico': 'Mexico City'}\n",
    "dump_list = ['Sacramento', 'San Francisco', 'Los Angeles', 'Bakersfield', 'San Diego']\n",
    "dump_int = 6\n",
    "dump_str = 'pickle'\n",
    "\n",
    "#dump the previous items into pickles; .pkl is the typical extension but you can definitely make up your own if desired\n",
    "pk.dump(dump_dict,open('dump_dict.pkl', 'wb'))\n",
    "pk.dump(dump_list,open('dump_list.pkl', 'wb'))\n",
    "pk.dump(dump_int,open('dump_int.pkl', 'wb'))\n",
    "pk.dump(dump_str,open('dump_str.pkl', 'wb'))"
   ]
  },
  {
   "cell_type": "code",
   "execution_count": null,
   "metadata": {},
   "outputs": [],
   "source": [
    "#check to be sure the pickling process worked\n",
    "test_dict = pk.load(open('dump_dict.pkl', 'rb'))\n",
    "test_list = pk.load(open('dump_list.pkl', 'rb'))\n",
    "test_int = pk.load(open('dump_int.pkl', 'rb'))\n",
    "test_str = pk.load(open('dump_str.pkl', 'rb'))\n",
    "\n",
    "print(test_dict)\n",
    "print(test_list)\n",
    "print(test_int)\n",
    "print(test_str)"
   ]
  },
  {
   "cell_type": "code",
   "execution_count": null,
   "metadata": {},
   "outputs": [],
   "source": [
    "#os\n",
    "import os\n",
    "#os approximates many command line commands"
   ]
  },
  {
   "cell_type": "code",
   "execution_count": null,
   "metadata": {},
   "outputs": [],
   "source": [
    "#this is the same as pwd command\n",
    "os.getcwd()  "
   ]
  },
  {
   "cell_type": "code",
   "execution_count": null,
   "metadata": {},
   "outputs": [],
   "source": [
    "#this is the same as ls command\n",
    "os.listdir('./') "
   ]
  },
  {
   "cell_type": "code",
   "execution_count": null,
   "metadata": {},
   "outputs": [],
   "source": [
    "#this is the same as the mv command\n",
    "os.rename(src, dst) "
   ]
  },
  {
   "cell_type": "code",
   "execution_count": null,
   "metadata": {},
   "outputs": [],
   "source": [
    "#this is the same as mkdir command\n",
    "os.mkdir('./new_folder') "
   ]
  },
  {
   "cell_type": "code",
   "execution_count": null,
   "metadata": {},
   "outputs": [],
   "source": [
    "#this is the same as rmdir command\n",
    "os.rmdir('./new_folder')"
   ]
  },
  {
   "cell_type": "code",
   "execution_count": null,
   "metadata": {},
   "outputs": [],
   "source": [
    "#let's remove the pickle files from earlier\n",
    "#this is the same as rm command\n",
    "os.remove('dump_dict.pkl')\n",
    "os.remove('dump_list.pkl')\n",
    "os.remove('dump_int.pkl')\n",
    "os.remove('dump_str.pkl')"
   ]
  },
  {
   "cell_type": "code",
   "execution_count": null,
   "metadata": {},
   "outputs": [],
   "source": [
    "#let's get directory name\n",
    "dir_name = os.path.dirname('/data/raw')\n",
    "print(dir_name)"
   ]
  },
  {
   "cell_type": "code",
   "execution_count": null,
   "metadata": {},
   "outputs": [],
   "source": [
    "#glob\n",
    "import glob\n",
    "list_contents = glob.glob('/*')\n",
    "print(list_contents)"
   ]
  },
  {
   "cell_type": "code",
   "execution_count": null,
   "metadata": {},
   "outputs": [],
   "source": [
    "#numpy\n",
    "import numpy as np"
   ]
  },
  {
   "cell_type": "code",
   "execution_count": null,
   "metadata": {},
   "outputs": [],
   "source": [
    "# here is a 1D array example\n",
    "simple = np.array([3,5,7])   # 1x3 (rows x columns) array created\n",
    "print(type(simple)) # this will print the type (for numpy array, it will be 'numpy.ndarray')         \n",
    "print(simple.shape) # typically follows rows x columns format, however, with a 1D array, \n",
    "                    # it will say how many elements are present          \n",
    "print(simple[0], simple[1], simple[2])   "
   ]
  },
  {
   "cell_type": "code",
   "execution_count": null,
   "metadata": {},
   "outputs": [],
   "source": [
    "# you can edit individual indices as well\n",
    "print(simple)\n",
    "simple[0] = 9                \n",
    "print(simple)"
   ]
  },
  {
   "cell_type": "code",
   "execution_count": null,
   "metadata": {},
   "outputs": [],
   "source": [
    "# here is a 2D array example\n",
    "two_d = np.array([[1,2,3],[4,5,6]])\n",
    "print(two_d.shape) \n",
    "print(two_d[0, 0], two_d[0, 1], two_d[0, 2])\n",
    "print(two_d[1, 0], two_d[1, 1], two_d[1, 2])"
   ]
  },
  {
   "cell_type": "code",
   "execution_count": null,
   "metadata": {},
   "outputs": [],
   "source": [
    "# you can also edit individual indices in 2D arrays as well, just have to index differently\n",
    "print(two_d)\n",
    "two_d[0,0] = 7\n",
    "two_d[1,0] = 10\n",
    "print(two_d)"
   ]
  },
  {
   "cell_type": "code",
   "execution_count": null,
   "metadata": {},
   "outputs": [],
   "source": [
    "# np.zeros will create an array of zeros for whatever shape you provide in the form of a tuple\n",
    "zero_a = np.zeros((3,3))\n",
    "print(zero_a)"
   ]
  },
  {
   "cell_type": "code",
   "execution_count": null,
   "metadata": {},
   "outputs": [],
   "source": [
    "# np.ones will create an array of ones for whatever shape you provide in the form of a tuple\n",
    "one_a = np.ones((2,4))   \n",
    "print(one_a)"
   ]
  },
  {
   "cell_type": "code",
   "execution_count": null,
   "metadata": {},
   "outputs": [],
   "source": [
    "# np.full will create an array of a specified number for whatever shape you provide in the form of a tuple\n",
    "full_a = np.full((5,5), 3)\n",
    "print(full_a)"
   ]
  },
  {
   "cell_type": "code",
   "execution_count": null,
   "metadata": {},
   "outputs": [],
   "source": [
    "# np.random.random will create an array of a random numbers for whatever shape you provide in the form of a tuple\n",
    "random_a = np.random.random((4,4))  # Create an array filled with random values\n",
    "print(random_a)"
   ]
  },
  {
   "cell_type": "code",
   "execution_count": null,
   "metadata": {},
   "outputs": [],
   "source": [
    "# you can slice arrays by indexing\n",
    "slice_a = np.array([[1, 2, 3, 4], \n",
    "                    [5, 6, 7, 8], \n",
    "                    [9, 10, 11, 12], \n",
    "                    [13, 14, 15, 16], \n",
    "                    [17, 18, 19, 20]])\n",
    "\n",
    "sub_slice = slice_a[:3, 0:4]\n",
    "print(sub_slice)\n",
    "\n",
    "# remember, when you slice arrays, modifying the slice will change the original array\n",
    "print(slice_a[0, 0])\n",
    "sub_slice[0, 0] = 100     \n",
    "print(slice_a[0, 0])\n",
    "print(sub_slice)\n",
    "print(slice_a)"
   ]
  },
  {
   "cell_type": "code",
   "execution_count": null,
   "metadata": {},
   "outputs": [],
   "source": [
    "#you can also remove whole rows and columns in slices\n",
    "slice_a = np.array([[1, 2, 3, 4], \n",
    "                    [5, 6, 7, 8], \n",
    "                    [9, 10, 11, 12], \n",
    "                    [13, 14, 15, 16], \n",
    "                    [17, 18, 19, 20]])\n",
    "#let's grab the third row\n",
    "row_3 = slice_a[2, :]\n",
    "print(row_3)\n",
    "\n",
    "#let's grab the third column\n",
    "col_3 = slice_a[:, 2]\n",
    "print(col_3)\n",
    "\n",
    "#let's grab the 2nd and 3rd elements of the third row\n",
    "row_3_sel = slice_a[2, 1:3]\n",
    "print(row_3_sel)\n",
    "\n",
    "#let's grab the 3rd and 4th elements of the third column\n",
    "col_3_sel = slice_a[2:4, 2]\n",
    "print(col_3_sel)\n",
    "\n",
    "#let's grab the last element in the third row and then the last element in the third column\n",
    "row_3_last = slice_a[2, -1]\n",
    "col_3_last = slice_a[-1, 2]\n",
    "print(row_3_last)\n",
    "print(col_3_last)"
   ]
  },
  {
   "cell_type": "code",
   "execution_count": null,
   "metadata": {},
   "outputs": [],
   "source": [
    "# you can also do math ops on numpy arrays that count for the whole array\n",
    "array_ = np.array([[1, 2, 3, 4], [5, 6, 7, 8], [9, 10, 11, 12], [13, 14, 15, 16], [17, 18, 19, 20]])\n",
    "print(array_)\n",
    "\n",
    "array_plus = array_ + 10\n",
    "print('plus')\n",
    "print(array_plus)\n",
    "\n",
    "array_minus = array_ - 10\n",
    "print('minus')\n",
    "print(array_minus)\n",
    "\n",
    "array_mult = array_ * 10\n",
    "print('mult')\n",
    "print(array_mult)\n",
    "\n",
    "array_div = array_ / 10\n",
    "print('div')\n",
    "print(array_div)"
   ]
  },
  {
   "cell_type": "code",
   "execution_count": null,
   "metadata": {},
   "outputs": [],
   "source": [
    "#you can also use numpy functions for a number of other funtions\n",
    "array_ = np.array([[1, 2, 3, 4], \n",
    "                   [5, 6, 7, 8], \n",
    "                   [9, 10, 11, 12], \n",
    "                   [13, 14, 15, 16], \n",
    "                   [17, 18, 19, 20]])\n",
    "# axis=0 is by column, axis=1 is by row\n",
    "# summing the whole array into a single value\n",
    "sum_ = np.sum(array_)\n",
    "print('Sum: ',sum_)\n",
    "\n",
    "# find the mean of the array\n",
    "mean_ = np.mean(array_)\n",
    "print('Mean: ',mean_)\n",
    "mean_ = np.mean(array_, axis = 0)\n",
    "print('Mean by Column: ',mean_)\n",
    "mean_ = np.mean(array_, axis = 1)\n",
    "print('Mean by Row: ',mean_)"
   ]
  },
  {
   "cell_type": "code",
   "execution_count": null,
   "metadata": {},
   "outputs": [],
   "source": [
    "array_ = np.array([[1, 2, 3, 4], \n",
    "                   [5, 6, 7, 8], \n",
    "                   [9, 10, 11, 12], \n",
    "                   [13, 14, 15, 16], \n",
    "                   [17, 18, 19, 20]])\n",
    "#let's find where the elements are greater than 10 by making a boolean numpy array\n",
    "where_10 = array_ > 10\n",
    "print(where_10)\n",
    "\n",
    "#let's print the values that are greater than 10 using the boolean array from before\n",
    "examples = array_[where_10]\n",
    "print(examples)\n",
    "\n",
    "#let's do it again but in one line\n",
    "print(array_[array_ > 10])\n",
    "\n",
    "#let's replace everything less than 10 with 10\n",
    "print('Before: \\n',array_)\n",
    "array_[array_ < 10] = 10\n",
    "print('After: \\n',array_)"
   ]
  },
  {
   "cell_type": "code",
   "execution_count": null,
   "metadata": {},
   "outputs": [],
   "source": [
    "# scipy\n",
    "from scipy.misc import imread, imsave, imresize\n",
    "\n",
    "im = imread('sample.jpg')\n",
    "print(im.dtype, im.shape)\n",
    "\n",
    "# resize to 250x250\n",
    "im = imresize(im, (250, 250))\n",
    "\n",
    "# save it\n",
    "imsave('sample_.jpg', img_tinted)"
   ]
  },
  {
   "cell_type": "code",
   "execution_count": null,
   "metadata": {},
   "outputs": [],
   "source": []
  }
 ],
 "metadata": {
  "kernelspec": {
   "display_name": "Python 3",
   "language": "python",
   "name": "python3"
  },
  "language_info": {
   "codemirror_mode": {
    "name": "ipython",
    "version": 3
   },
   "file_extension": ".py",
   "mimetype": "text/x-python",
   "name": "python",
   "nbconvert_exporter": "python",
   "pygments_lexer": "ipython3",
   "version": "3.5.5"
  }
 },
 "nbformat": 4,
 "nbformat_minor": 2
}
